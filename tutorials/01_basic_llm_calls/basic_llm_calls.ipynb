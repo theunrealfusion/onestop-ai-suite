{
 "cells": [
  {
   "cell_type": "markdown",
   "id": "09acd18d",
   "metadata": {},
   "source": [
    "# Tutorial 1: Basic LLM Calls\n",
    "\n",
    "Welcome to the OneStop-AI-Suite tutorial series!\n",
    "\n",
    "**Goal:** Learn how to connect and call LLMs from Anthropic (Claude), Google (Gemini), and OpenAI (GPT).\n",
    "\n",
    "**Requirements:**\n",
    "- Python 3.9+\n",
    "- Install: `requests`, `openai`, `anthropic`, `google-generativeai`\n",
    "- Set your API keys as environment variables or in a `.env` file:\n",
    "  - `ANTHROPIC_API_KEY`\n",
    "  - `GOOGLE_API_KEY`\n",
    "  - `OPENAI_API_KEY`\n",
    "\n",
    "All outputs are saved to console and a text file for reproducibility."
   ]
  },
  {
   "cell_type": "code",
   "execution_count": null,
   "id": "4c07c5ba",
   "metadata": {},
   "outputs": [],
   "source": [
    "# Setup: Install required packages (uncomment if needed)\n",
    "# !pip install requests openai anthropic google-generativeai\n",
    "\n",
    "import os\n",
    "from dotenv import load_dotenv\n",
    "load_dotenv()\n",
    "from datetime import datetime\n",
    "\n",
    "# Helper to save output\n",
    "OUTPUT_FILE = \"basic_llm_outputs.txt\"\n",
    "def save_output(model_name, prompt, response):\n",
    "    with open(OUTPUT_FILE, \"a\", encoding=\"utf-8\") as f:\n",
    "        f.write(f\"[{datetime.now()}] {model_name}\\nPrompt: {prompt}\\nResponse: {response}\\n\\n\")"
   ]
  },
  {
   "cell_type": "markdown",
   "id": "75897eab",
   "metadata": {},
   "source": [
    "## Anthropic (Claude) Example"
   ]
  },
  {
   "cell_type": "code",
   "execution_count": null,
   "id": "72a8758e",
   "metadata": {},
   "outputs": [],
   "source": [
    "import anthropic\n",
    "\n",
    "anthropic_api_key = os.getenv(\"ANTHROPIC_API_KEY\")\n",
    "if not anthropic_api_key:\n",
    "    raise ValueError(\"Set ANTHROPIC_API_KEY in your environment.\")\n",
    "\n",
    "client = anthropic.Anthropic(api_key=anthropic_api_key)\n",
    "prompt = \"What is the capital of France?\"\n",
    "response = client.messages.create(\n",
    "    model=\"claude-3-haiku-20240307\",\n",
    "    max_tokens=50,\n",
    "    messages=[{\"role\": \"user\", \"content\": prompt}]\n",
    ")\n",
    "result = response.content[0].text\n",
    "print(\"Anthropic Response:\", result)\n",
    "save_output(\"Anthropic\", prompt, result)"
   ]
  },
  {
   "cell_type": "markdown",
   "id": "5ec8a97e",
   "metadata": {},
   "source": [
    "## Google Gemini Example"
   ]
  },
  {
   "cell_type": "code",
   "execution_count": null,
   "id": "e9c599ba",
   "metadata": {},
   "outputs": [],
   "source": [
    "import google.generativeai as genai\n",
    "\n",
    "google_api_key = os.getenv(\"GOOGLE_API_KEY\")\n",
    "if not google_api_key:\n",
    "    raise ValueError(\"Set GOOGLE_API_KEY in your environment.\")\n",
    "\n",
    "genai.configure(api_key=google_api_key)\n",
    "model = genai.GenerativeModel(\"gemini-2.0-flash-exp\")\n",
    "prompt = \"What is the capital of France?\"\n",
    "response = model.generate_content(prompt)\n",
    "result = response.text\n",
    "print(\"Gemini Response:\", result)\n",
    "save_output(\"Gemini\", prompt, result)"
   ]
  },
  {
   "cell_type": "markdown",
   "id": "1d0aee57",
   "metadata": {},
   "source": [
    "## OpenAI GPT Example"
   ]
  },
  {
   "cell_type": "code",
   "execution_count": null,
   "id": "2ad4119c",
   "metadata": {},
   "outputs": [],
   "source": [
    "import openai\n",
    "\n",
    "openai_api_key = os.getenv(\"OPENAI_API_KEY\")\n",
    "if not openai_api_key:\n",
    "    raise ValueError(\"Set OPENAI_API_KEY in your environment.\")\n",
    "\n",
    "openai_client = openai.OpenAI(api_key=openai_api_key)\n",
    "prompt = \"What is the capital of France?\"\n",
    "response = openai_client.chat.completions.create(\n",
    "    model=\"gpt-3.5-turbo\",\n",
    "    messages=[{\"role\": \"user\", \"content\": prompt}]\n",
    ")\n",
    "result = response.choices[0].message.content\n",
    "print(\"OpenAI Response:\", result)\n",
    "save_output(\"OpenAI\", prompt, result)"
   ]
  },
  {
   "cell_type": "markdown",
   "id": "bb8dbe7d",
   "metadata": {},
   "source": [
    "## Next Steps\n",
    "- Try changing the prompt and rerun the cells.\n",
    "- Check `basic_llm_outputs.txt` for saved results.\n",
    "- Proceed to the next tutorial for RAG basics."
   ]
  }
 ],
 "metadata": {
  "kernelspec": {
   "display_name": "Python 3",
   "language": "python",
   "name": "python3"
  },
  "language_info": {
   "codemirror_mode": {
    "name": "ipython",
    "version": 3
   },
   "file_extension": ".py",
   "mimetype": "text/x-python",
   "name": "python",
   "nbconvert_exporter": "python",
   "pygments_lexer": "ipython3",
   "version": "3.13.1"
  }
 },
 "nbformat": 4,
 "nbformat_minor": 5
}
